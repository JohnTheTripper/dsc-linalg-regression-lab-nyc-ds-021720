{
 "cells": [
  {
   "cell_type": "markdown",
   "metadata": {},
   "source": [
    "# Regression with Linear Algebra - Lab\n",
    "\n",
    "## Introduction\n",
    "\n",
    "In this lab, you'll apply regression analysis using simple matrix manipulations to fit a model to given data, and then predict new values for previously unseen data. You'll follow the approach highlighted in the previous lesson where you used NumPy to build the appropriate matrices and vectors and solve for the $\\beta$ (unknown variables) vector. The beta vector will be used with test data to make new predictions. You'll also evaluate the model fit.\n",
    "In order to make this experiment interesting, you'll use NumPy at every single stage of this experiment, i.e., loading data, creating matrices, performing train-test split, model fitting, and evaluation.\n",
    "  \n",
    "\n",
    "## Objectives\n",
    "\n",
    "In this lab you will:\n",
    "\n",
    "- Use matrix algebra to calculate the parameter values of a linear regression\n",
    "\n",
    "\n",
    "First, let's import necessary libraries: "
   ]
  },
  {
   "cell_type": "code",
   "execution_count": 1,
   "metadata": {},
   "outputs": [],
   "source": [
    "import csv # for reading csv file\n",
    "import numpy as np"
   ]
  },
  {
   "cell_type": "markdown",
   "metadata": {},
   "source": [
    "## Dataset \n",
    "\n",
    "The dataset you'll use for this experiment is \"**Sales Prices in the City of Windsor, Canada**\", something very similar to the Boston Housing dataset. This dataset contains a number of input (independent) variables, including area, number of bedrooms/bathrooms, facilities(AC/garage), etc. and an output (dependent) variable, **price**.  You'll formulate a linear algebra problem to find linear mappings from input features using the equation provided in the previous lesson. \n",
    "\n",
    "This will allow you to find a relationship between house features and house price for the given data, allowing you to find unknown prices for houses, given the input features.  \n",
    "\n",
    "A description of the dataset and included features is available [here](https://rdrr.io/cran/Ecdat/man/Housing.html).\n",
    "\n",
    "In your repository, the dataset is available as `windsor_housing.csv`. There are 11 input features (first 11 columns):\n",
    "\n",
    "\tlotsize\tbedrooms  bathrms  stories\tdriveway  recroom\tfullbase  gashw\t airco  garagepl   prefarea\n",
    "\n",
    "and 1 output feature i.e. **price** (12th column). \n",
    "\n",
    "The focus of this lab is not really answering a preset analytical question, but to learn how you can perform a regression experiment, using mathematical manipulations - similar to the one you performed using `statsmodels`. So you won't be using any `pandas` or `statsmodels` goodness here. The key objectives here are to: \n",
    "\n",
    "- Understand regression with matrix algebra and \n",
    "- Mastery in NumPy scientific computation\n",
    "\n",
    "## Stage 1: Prepare data for modeling \n",
    "\n",
    "Let's give you a head start by importing the dataset. You'll perform the following steps to get the data ready for analysis:\n",
    "\n",
    "* Initialize an empty list `data` for loading data\n",
    "* Read the csv file containing complete (raw) `windsor_housing.csv`. [Use `csv.reader()` for loading data.](https://docs.python.org/3/library/csv.html). Store this in `data` one row at a time \n",
    "\n",
    "* Drop the first row of csv file as it contains the names of variables (header) which won't be used during analysis (keeping this will cause errors as it contains text values) \n",
    "\n",
    "* Append a column of all **1**s to the data (bias) as the first column\n",
    "\n",
    "* Convert `data` to a NumPy array and inspect first few rows \n",
    "\n",
    "> NOTE: `read.csv()` reads the csv as a text file, so you should convert the contents to float."
   ]
  },
  {
   "cell_type": "code",
   "execution_count": 21,
   "metadata": {
    "scrolled": true
   },
   "outputs": [
    {
     "name": "stdout",
     "output_type": "stream",
     "text": [
      "['5850', '3', '1', '2', '1', '0', '1', '0', '0', '1', '0', '42000']\n",
      "['4000', '2', '1', '1', '1', '0', '0', '0', '0', '0', '0', '38500']\n",
      "['3060', '3', '1', '1', '1', '0', '0', '0', '0', '0', '0', '49500']\n",
      "['6650', '3', '1', '2', '1', '1', '0', '0', '0', '0', '0', '60500']\n",
      "['6360', '2', '1', '1', '1', '0', '0', '0', '0', '0', '0', '61000']\n"
     ]
    }
   ],
   "source": [
    "# Your code here\n",
    "\n",
    "data = []\n",
    "with open('windsor_housing.csv', 'r') as csv_file:\n",
    "    csv_reader = csv.reader(csv_file, delimiter = ',')\n",
    "    rows = list(csv_reader)\n",
    "    for row in rows:\n",
    "        data.append(row)\n",
    "del data[0]\n",
    "\n",
    "print(data[0])\n",
    "print(data[1])\n",
    "print(data[2])\n",
    "print(data[3])\n",
    "print(data[4])\n",
    "\n",
    "# First 5 rows of raw data \n",
    "\n",
    "# array([[1.00e+00, 5.85e+03, 3.00e+00, 1.00e+00, 2.00e+00, 1.00e+00,\n",
    "#         0.00e+00, 1.00e+00, 0.00e+00, 0.00e+00, 1.00e+00, 0.00e+00,\n",
    "#         4.20e+04],\n",
    "#        [1.00e+00, 4.00e+03, 2.00e+00, 1.00e+00, 1.00e+00, 1.00e+00,\n",
    "#         0.00e+00, 0.00e+00, 0.00e+00, 0.00e+00, 0.00e+00, 0.00e+00,\n",
    "#         3.85e+04],\n",
    "#        [1.00e+00, 3.06e+03, 3.00e+00, 1.00e+00, 1.00e+00, 1.00e+00,\n",
    "#         0.00e+00, 0.00e+00, 0.00e+00, 0.00e+00, 0.00e+00, 0.00e+00,\n",
    "#         4.95e+04],\n",
    "#        [1.00e+00, 6.65e+03, 3.00e+00, 1.00e+00, 2.00e+00, 1.00e+00,\n",
    "#         1.00e+00, 0.00e+00, 0.00e+00, 0.00e+00, 0.00e+00, 0.00e+00,\n",
    "#         6.05e+04],\n",
    "#        [1.00e+00, 6.36e+03, 2.00e+00, 1.00e+00, 1.00e+00, 1.00e+00,\n",
    "#         0.00e+00, 0.00e+00, 0.00e+00, 0.00e+00, 0.00e+00, 0.00e+00,\n",
    "#         6.10e+04]])"
   ]
  },
  {
   "cell_type": "code",
   "execution_count": 22,
   "metadata": {},
   "outputs": [],
   "source": [
    "for row in data:\n",
    "    row.insert(0, 1)"
   ]
  },
  {
   "cell_type": "code",
   "execution_count": 23,
   "metadata": {
    "scrolled": false
   },
   "outputs": [
    {
     "name": "stdout",
     "output_type": "stream",
     "text": [
      "<class 'list'>\n",
      "[1, '4000', '2', '1', '1', '1', '0', '0', '0', '0', '0', '0', '38500']\n",
      "[1, '3060', '3', '1', '1', '1', '0', '0', '0', '0', '0', '0', '49500']\n",
      "[1, '6650', '3', '1', '2', '1', '1', '0', '0', '0', '0', '0', '60500']\n",
      "[1, '6360', '2', '1', '1', '1', '0', '0', '0', '0', '0', '0', '61000']\n"
     ]
    }
   ],
   "source": [
    "print(type(data[0]))\n",
    "print(data[1])\n",
    "print(data[2])\n",
    "print(data[3])\n",
    "print(data[4])"
   ]
  },
  {
   "cell_type": "code",
   "execution_count": 24,
   "metadata": {
    "scrolled": true
   },
   "outputs": [
    {
     "data": {
      "text/plain": [
       "array([['1', '5850', '3', ..., '1', '0', '42000'],\n",
       "       ['1', '4000', '2', ..., '0', '0', '38500'],\n",
       "       ['1', '3060', '3', ..., '0', '0', '49500'],\n",
       "       ...,\n",
       "       ['1', '6000', '3', ..., '1', '0', '103000'],\n",
       "       ['1', '6000', '3', ..., '1', '0', '105000'],\n",
       "       ['1', '6000', '3', ..., '1', '0', '105000']], dtype='<U21')"
      ]
     },
     "execution_count": 24,
     "metadata": {},
     "output_type": "execute_result"
    }
   ],
   "source": [
    "np.array(data)"
   ]
  },
  {
   "cell_type": "code",
   "execution_count": 25,
   "metadata": {},
   "outputs": [],
   "source": [
    "data_array = np.array(data)"
   ]
  },
  {
   "cell_type": "code",
   "execution_count": 26,
   "metadata": {
    "scrolled": true
   },
   "outputs": [
    {
     "data": {
      "text/plain": [
       "(546, 13)"
      ]
     },
     "execution_count": 26,
     "metadata": {},
     "output_type": "execute_result"
    }
   ],
   "source": [
    "data_array.shape"
   ]
  },
  {
   "cell_type": "code",
   "execution_count": 27,
   "metadata": {},
   "outputs": [
    {
     "name": "stdout",
     "output_type": "stream",
     "text": [
      "42000\n"
     ]
    }
   ],
   "source": [
    "print(data_array[0][12])"
   ]
  },
  {
   "cell_type": "markdown",
   "metadata": {},
   "source": [
    "## Step 2: Perform a 80/20 train-test split\n",
    "\n",
    "Explore NumPy's official documentation to manually split a dataset using a random sampling method of your choice. Some useful methods are located in the [numpy.random library](https://docs.scipy.org/doc/numpy-1.14.0/reference/routines.random.html).\n",
    "* Perform a **random** 80/20 split on data using a method of your choice in NumPy\n",
    "* Split the data to create `x_train`, `y_train`, `x_test`, and `y_test` arrays \n",
    "* Inspect the contents to see if the split performed as expected\n",
    "\n",
    "> Note: When randomly splitting data, it's always recommended to set a seed in order to ensure reproducibility "
   ]
  },
  {
   "cell_type": "code",
   "execution_count": 28,
   "metadata": {
    "scrolled": true
   },
   "outputs": [
    {
     "name": "stdout",
     "output_type": "stream",
     "text": [
      "['1' '4500' '3' '1' '2' '0' '0' '1' '0' '1' '0' '0' '57250']\n"
     ]
    }
   ],
   "source": [
    "# only run once, can't seed\n",
    "np.random.shuffle(data_array)\n",
    "print(data_array[0])"
   ]
  },
  {
   "cell_type": "code",
   "execution_count": null,
   "metadata": {},
   "outputs": [],
   "source": []
  },
  {
   "cell_type": "code",
   "execution_count": 81,
   "metadata": {
    "scrolled": true
   },
   "outputs": [
    {
     "name": "stdout",
     "output_type": "stream",
     "text": [
      "(437, 13)\n",
      "(109, 13)\n",
      "57250\n",
      "(437,)\n",
      "(109,)\n",
      "(437, 12)\n",
      "(109, 12)\n"
     ]
    }
   ],
   "source": [
    "# Your code here \n",
    "\n",
    "training = data_array[:437,:]\n",
    "test = data_array[437:,:]\n",
    "print(training.shape)\n",
    "print(test.shape)\n",
    "\n",
    "training = training.astype('int')\n",
    "test = test.astype('int')\n",
    "\n",
    "print(training[0][12])\n",
    "\n",
    "y_train = training[:,12]\n",
    "y_test = test[:,12]\n",
    "print(y_train.shape)\n",
    "print(y_test.shape)\n",
    "\n",
    "x_train = np.delete(training, 12, 1)\n",
    "x_test = np.delete(test, 12, 1)\n",
    "print(x_train.shape)\n",
    "print(x_test.shape)\n",
    "\n",
    "# Split results\n",
    "# Raw data Shape:  (546, 13)\n",
    "# Train/Test Split: (437, 13) (109, 13)\n",
    "# x_train, y_train, x_test, y_test: (437, 12) (437,) (109, 12) (109,)"
   ]
  },
  {
   "cell_type": "markdown",
   "metadata": {},
   "source": [
    "## Step 3: Calculate the `beta` \n",
    "\n",
    "With $X$ and $y$ in place, you can now compute your beta values with $x_\\text{train}$ and $y_\\text{train}$ as:\n",
    "#### $\\beta = (x_\\text{train}^T. x_\\text{train})^{-1} . x_\\text{train}^T . y_\\text{train}$\n",
    "\n",
    "* Using NumPy operations (transpose, inverse) that we saw earlier, compute the above equation in steps \n",
    "* Print your beta values "
   ]
  },
  {
   "cell_type": "code",
   "execution_count": 82,
   "metadata": {
    "scrolled": false
   },
   "outputs": [
    {
     "data": {
      "text/plain": [
       "numpy.ndarray"
      ]
     },
     "execution_count": 82,
     "metadata": {},
     "output_type": "execute_result"
    }
   ],
   "source": [
    "type(x_train)"
   ]
  },
  {
   "cell_type": "code",
   "execution_count": 83,
   "metadata": {},
   "outputs": [
    {
     "data": {
      "text/plain": [
       "array([[   1, 4500,    3, ...,    1,    0,    0],\n",
       "       [   1, 3660,    4, ...,    0,    0,    0],\n",
       "       [   1, 3760,    3, ...,    0,    2,    0],\n",
       "       ...,\n",
       "       [   1, 2835,    2, ...,    0,    0,    0],\n",
       "       [   1, 5000,    3, ...,    0,    0,    0],\n",
       "       [   1, 2475,    3, ...,    0,    0,    0]])"
      ]
     },
     "execution_count": 83,
     "metadata": {},
     "output_type": "execute_result"
    }
   ],
   "source": [
    "x_train"
   ]
  },
  {
   "cell_type": "code",
   "execution_count": 84,
   "metadata": {
    "scrolled": true
   },
   "outputs": [
    {
     "data": {
      "text/plain": [
       "(437, 12)"
      ]
     },
     "execution_count": 84,
     "metadata": {},
     "output_type": "execute_result"
    }
   ],
   "source": [
    "x_train.shape"
   ]
  },
  {
   "cell_type": "code",
   "execution_count": 85,
   "metadata": {},
   "outputs": [
    {
     "data": {
      "text/plain": [
       "(12, 437)"
      ]
     },
     "execution_count": 85,
     "metadata": {},
     "output_type": "execute_result"
    }
   ],
   "source": [
    "x_train_transpose.shape"
   ]
  },
  {
   "cell_type": "code",
   "execution_count": 86,
   "metadata": {},
   "outputs": [],
   "source": [
    "# Your code here \n",
    "\n",
    "x_train_transpose = x_train.T\n",
    "x_train_transpose_dot_x_train = x_train_transpose.dot(x_train)\n",
    "x_train_transpose_dot_x_train_inv = np.linalg.inv(x_train_transpose_dot_x_train)\n",
    "x_train_transpose_dot_x_train_inv_dot_x_train = x_train_transpose_dot_x_train_inv.dot(x_train_transpose)\n",
    "beta = x_train_transpose_dot_x_train_inv_dot_x_train.dot(y_train)\n",
    "# Beta values\n",
    "# Due to random split, your answers may vary \n",
    "# [-5.46637290e+03  3.62457767e+00  2.75100964e+03  1.47223649e+04\n",
    "#   5.97774591e+03  5.71916945e+03  5.73109882e+03  3.83586258e+03\n",
    "#   8.12674607e+03  1.33296437e+04  3.74995169e+03  1.01514699e+04]"
   ]
  },
  {
   "cell_type": "code",
   "execution_count": 87,
   "metadata": {},
   "outputs": [
    {
     "data": {
      "text/plain": [
       "array([-6.71513307e+03,  3.42013007e+00,  2.17680843e+03,  1.57290411e+04,\n",
       "        6.64099564e+03,  6.91039394e+03,  2.83995937e+03,  5.05579412e+03,\n",
       "        1.40407502e+04,  1.26991217e+04,  3.56107802e+03,  1.12489863e+04])"
      ]
     },
     "execution_count": 87,
     "metadata": {},
     "output_type": "execute_result"
    }
   ],
   "source": [
    "beta"
   ]
  },
  {
   "cell_type": "markdown",
   "metadata": {},
   "source": [
    "## Step 4: Make predictions\n",
    "Great, you now have a set of coefficients that describe the linear mappings between $X$ and $y$. You can now use the calculated beta values with the test datasets that we left out to calculate $y$ predictions. Next, use all features in turn and multiply it with this beta. The result will give a prediction for each row which you can append to a new array of predictions.\n",
    "\n",
    "$\\hat{y} = x\\beta = \\beta_0 + \\beta_1 x_1 +  \\beta_2 x_2 + \\ldots + \\beta_m x_m $ \n",
    "\n",
    "* Create a new empty list (`y_pred`) for saving predictions\n",
    "* For each row of `x_test`, take the dot product of the row with beta to calculate the prediction for that row\n",
    "* Append the predictions to `y_pred`\n",
    "* Print the new set of predictions"
   ]
  },
  {
   "cell_type": "code",
   "execution_count": 88,
   "metadata": {},
   "outputs": [],
   "source": [
    "# Your code here \n",
    "y_pred = []\n",
    "for row in x_test:\n",
    "    y_pred.append(row.dot(beta))\n",
    "        \n"
   ]
  },
  {
   "cell_type": "code",
   "execution_count": 89,
   "metadata": {},
   "outputs": [
    {
     "data": {
      "text/plain": [
       "[63510.51690504254,\n",
       " 89859.59501941892,\n",
       " 74123.14878466439,\n",
       " 56328.424727573154,\n",
       " 62130.77748212388,\n",
       " 56847.75422818423,\n",
       " 51231.29228888372,\n",
       " 87639.97825156889,\n",
       " 89114.49385328445,\n",
       " 61378.34886601522,\n",
       " 67246.55558452071,\n",
       " 78281.92157299179,\n",
       " 42263.22366198241,\n",
       " 79399.90393918082,\n",
       " 78201.83157789717,\n",
       " 88147.36817136951,\n",
       " 96905.67340533836,\n",
       " 44876.78629501617,\n",
       " 70642.53180345878,\n",
       " 71493.46017267744,\n",
       " 31343.67344443249,\n",
       " 39497.130412208295,\n",
       " 71387.75468218862,\n",
       " 53600.89975977824,\n",
       " 63306.579613206886,\n",
       " 47650.845990742906,\n",
       " 62520.42316835241,\n",
       " 39599.73431440493,\n",
       " 77071.16205158265,\n",
       " 100932.18064203774,\n",
       " 40736.23994547367,\n",
       " 76271.6882536957,\n",
       " 88256.92429465294,\n",
       " 52767.16573094974,\n",
       " 56539.39485303378,\n",
       " 68950.62222883647,\n",
       " 39231.382713256346,\n",
       " 43882.75961283716,\n",
       " 55273.94672594195,\n",
       " 84281.97206126321,\n",
       " 46786.503261468184,\n",
       " 82253.07230248812,\n",
       " 43440.464791046776,\n",
       " 90028.57492092845,\n",
       " 58140.690094679274,\n",
       " 42397.40071429985,\n",
       " 97012.82583316,\n",
       " 53073.121789423094,\n",
       " 36778.12700399745,\n",
       " 56124.83650006895,\n",
       " 69759.31378766222,\n",
       " 104582.5980151092,\n",
       " 44289.45525889624,\n",
       " 47439.694888987186,\n",
       " 49448.61711316588,\n",
       " 103705.53943915467,\n",
       " 66556.1766547534,\n",
       " 97121.95816827803,\n",
       " 77700.86678008901,\n",
       " 44484.52192681638,\n",
       " 32598.74192755814,\n",
       " 53416.935349929365,\n",
       " 61944.584906422606,\n",
       " 72861.5122019659,\n",
       " 53740.47556851525,\n",
       " 45764.673020960414,\n",
       " 41921.21065466029,\n",
       " 39231.382713256346,\n",
       " 59924.070740899144,\n",
       " 45382.86986367549,\n",
       " 108015.28962613069,\n",
       " 80783.72313991346,\n",
       " 91086.69910160026,\n",
       " 53662.3428473497,\n",
       " 56153.039408506316,\n",
       " 78671.35451103613,\n",
       " 35399.10584342122,\n",
       " 64733.42314811319,\n",
       " 86462.27369954097,\n",
       " 55091.0587814644,\n",
       " 70607.5167783363,\n",
       " 74263.21638971829,\n",
       " 44969.26916400544,\n",
       " 39368.1879161852,\n",
       " 38889.36970593423,\n",
       " 105003.58293323463,\n",
       " 48904.219301393954,\n",
       " 40011.53446089082,\n",
       " 54817.3881267659,\n",
       " 60962.87944733742,\n",
       " 94150.18196058668,\n",
       " 68691.27348732104,\n",
       " 88821.10658077215,\n",
       " 44934.18477352621,\n",
       " 50938.313605213545,\n",
       " 83458.55762740117,\n",
       " 80288.58861595002,\n",
       " 95363.66224631088,\n",
       " 39368.1879161852,\n",
       " 42776.24317296559,\n",
       " 61320.5428781027,\n",
       " 89076.36973071091,\n",
       " 86911.23219407961,\n",
       " 80358.83561175488,\n",
       " 101448.58133705225,\n",
       " 94645.1833577666,\n",
       " 39298.05412689336,\n",
       " 60827.03158232698,\n",
       " 48670.94171534681]"
      ]
     },
     "execution_count": 89,
     "metadata": {},
     "output_type": "execute_result"
    }
   ],
   "source": [
    "y_pred"
   ]
  },
  {
   "cell_type": "code",
   "execution_count": 90,
   "metadata": {},
   "outputs": [
    {
     "data": {
      "text/plain": [
       "109"
      ]
     },
     "execution_count": 90,
     "metadata": {},
     "output_type": "execute_result"
    }
   ],
   "source": [
    "len(y_pred)"
   ]
  },
  {
   "cell_type": "markdown",
   "metadata": {},
   "source": [
    "## Step 5: Evaluate model \n",
    "\n",
    "### Visualize actual vs. predicted values\n",
    "This is exciting, now your model can use the beta value to predict the price of houses given the input features. Let's plot these predictions against the actual values in `y_test` to see how much our model deviates. "
   ]
  },
  {
   "cell_type": "code",
   "execution_count": 92,
   "metadata": {},
   "outputs": [
    {
     "data": {
      "text/plain": [
       "(12,)"
      ]
     },
     "execution_count": 92,
     "metadata": {},
     "output_type": "execute_result"
    }
   ],
   "source": [
    "beta.shape"
   ]
  },
  {
   "cell_type": "code",
   "execution_count": 78,
   "metadata": {},
   "outputs": [],
   "source": [
    "import matplotlib.pyplot as plt\n"
   ]
  },
  {
   "cell_type": "code",
   "execution_count": 101,
   "metadata": {},
   "outputs": [
    {
     "data": {
      "image/png": "[encoded data removed]",
      "text/plain": [
       "<Figure size 432x288 with 1 Axes>"
      ]
     },
     "metadata": {
      "needs_background": "light"
     },
     "output_type": "display_data"
    }
   ],
   "source": [
    "# Plot predicted and actual values as line plots\n",
    "\n",
    "\n",
    "#plt.plot(y_pred, y_test, 'o')\n",
    "plt.plot(x_test, y_pred, 'o')\n",
    "plt.plot(x_test, y_test, 'o')\n",
    "\n",
    "plt.show()"
   ]
  },
  {
   "cell_type": "markdown",
   "metadata": {},
   "source": [
    "This doesn't look so bad, does it? Your model, although isn't perfect at this stage, is making a good attempt to predict house prices although a few prediction seem a bit out. There could be a number of reasons for this. Let's try to dig a bit deeper to check model's predictive abilities by comparing these prediction with actual values of `y_test` individually. That will help you calculate the RMSE value (root mean squared error) for your model. \n",
    "\n",
    "### Root Mean Squared Error\n",
    "Here is the formula for RMSE:  \n",
    "\n",
    "$$ \\large RMSE = \\sqrt{\\sum^N_{i=1}\\dfrac{ (\\text{Predicted}_i-\\text{Actual}_i)^2}{N}}$$\n",
    "\n",
    "* Initialize an empty array `err`\n",
    "* For each row in `y_test` and `y_pred`, take the squared difference and append error for each row in the `err` array\n",
    "* Calculate $RMSE$ from `err` using the formula shown above "
   ]
  },
  {
   "cell_type": "code",
   "execution_count": 111,
   "metadata": {},
   "outputs": [
    {
     "name": "stdout",
     "output_type": "stream",
     "text": [
      "14528.981559807278\n"
     ]
    }
   ],
   "source": [
    "# Calculate RMSE\n",
    "err = []\n",
    "\n",
    "for test, pred in zip(y_test, y_pred):\n",
    "    err.append((test - pred)**2)\n",
    "\n",
    "    \n",
    "RMSE = (np.array(err).mean())**(1/2)\n",
    "print(RMSE)\n",
    "    \n",
    "# Due to random split, your answers may vary \n",
    "# RMSE = 14868.172645765708"
   ]
  },
  {
   "cell_type": "markdown",
   "metadata": {},
   "source": [
    "### Normalized root mean squared error\n",
    "The above error is clearly in terms of the dependent variable, i.e., the final house price. You can also use a normalized mean squared error in case of multiple regression which can be calculated from RMSE using following the formula:\n",
    "\n",
    "$$ \\large NRMSE = \\dfrac{RMSE}{max_i y_i - min_i y_i} $$\n",
    "\n",
    "* Calculate normalized RMSE"
   ]
  },
  {
   "cell_type": "code",
   "execution_count": 113,
   "metadata": {},
   "outputs": [
    {
     "name": "stdout",
     "output_type": "stream",
     "text": [
      "0.12524984103282136\n"
     ]
    }
   ],
   "source": [
    "# Calculate NRMSE\n",
    "NRMSE = RMSE / (max(y_test) - min(y_test))\n",
    "print(NRMSE)\n",
    "# Due to random split, your answers may vary \n",
    "# 0.09011013724706489"
   ]
  },
  {
   "cell_type": "markdown",
   "metadata": {},
   "source": [
    "There it is. A complete multiple regression analysis using nothing but NumPy. Having good programming skills in NumPy allows you to dig deeper into analytical algorithms in machine learning and deep learning. Using matrix multiplication techniques you saw here, you can easily build a whole neural network from scratch. \n",
    "\n",
    "## Level up (Optional)\n",
    "\n",
    "* Calculate the R-squared and adjusted R-squared for the above model \n",
    "* Plot the residuals (similar to `statsmodels`) and comment on the variance and heteroscedasticity\n",
    "* Run the experiment in `statsmodels` and compare the performance of both approaches in terms of computational cost\n",
    "\n",
    "## Summary\n",
    "\n",
    "In this lab, you built a predictive model for predicting house prices. Remember this is a very naive implementation of regression modeling. The purpose here was to get an introduction to the applications of linear algebra into machine learning and predictive analysis. There are a number of shortcomings in this modeling approach and you can further apply a number of data modeling techniques to improve this model. "
   ]
  }
 ],
 "metadata": {
  "kernelspec": {
   "display_name": "Python 3",
   "language": "python",
   "name": "python3"
  },
  "language_info": {
   "codemirror_mode": {
    "name": "ipython",
    "version": 3
   },
   "file_extension": ".py",
   "mimetype": "text/x-python",
   "name": "python",
   "nbconvert_exporter": "python",
   "pygments_lexer": "ipython3",
   "version": "3.6.9"
  }
 },
 "nbformat": 4,
 "nbformat_minor": 2
}
